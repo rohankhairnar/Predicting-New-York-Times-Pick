{
 "cells": [
  {
   "cell_type": "code",
   "execution_count": 1,
   "metadata": {
    "collapsed": true
   },
   "outputs": [],
   "source": [
    "import numpy as np\n",
    "import pandas as pd"
   ]
  },
  {
   "cell_type": "code",
   "execution_count": 8,
   "metadata": {},
   "outputs": [
    {
     "name": "stderr",
     "output_type": "stream",
     "text": [
      "/Users/temp/anaconda/lib/python3.6/site-packages/IPython/core/interactiveshell.py:2717: DtypeWarning: Columns (14,15,31,32) have mixed types. Specify dtype option on import or set low_memory=False.\n",
      "  interactivity=interactivity, compiler=compiler, result=result)\n"
     ]
    }
   ],
   "source": [
    "#loading comments\n",
    "f17_1 = pd.read_csv(\"/Users/temp/Downloads/nyt-comments/CommentsJan2017.csv\")"
   ]
  },
  {
   "cell_type": "code",
   "execution_count": 9,
   "metadata": {},
   "outputs": [
    {
     "data": {
      "text/plain": [
       "(231449, 34)"
      ]
     },
     "execution_count": 9,
     "metadata": {},
     "output_type": "execute_result"
    }
   ],
   "source": [
    "f17_1.shape"
   ]
  },
  {
   "cell_type": "code",
   "execution_count": 10,
   "metadata": {},
   "outputs": [
    {
     "name": "stderr",
     "output_type": "stream",
     "text": [
      "/Users/temp/anaconda/lib/python3.6/site-packages/IPython/core/interactiveshell.py:2717: DtypeWarning: Columns (14,15,31,32) have mixed types. Specify dtype option on import or set low_memory=False.\n",
      "  interactivity=interactivity, compiler=compiler, result=result)\n",
      "/Users/temp/anaconda/lib/python3.6/site-packages/IPython/core/interactiveshell.py:2717: DtypeWarning: Columns (32,33) have mixed types. Specify dtype option on import or set low_memory=False.\n",
      "  interactivity=interactivity, compiler=compiler, result=result)\n",
      "/Users/temp/anaconda/lib/python3.6/site-packages/IPython/core/interactiveshell.py:2717: DtypeWarning: Columns (25,26) have mixed types. Specify dtype option on import or set low_memory=False.\n",
      "  interactivity=interactivity, compiler=compiler, result=result)\n"
     ]
    }
   ],
   "source": [
    "#loading rest of the comments and concatenating in one file\n",
    "f17_2 = pd.read_csv(\"/Users/temp/Downloads/nyt-comments/CommentsFeb2017.csv\")\n",
    "f17_3 = pd.read_csv(\"/Users/temp/Downloads/nyt-comments/CommentsMarch2017.csv\")\n",
    "f17_4 = pd.read_csv(\"/Users/temp/Downloads/nyt-comments/CommentsApril2017.csv\")\n",
    "f17_5 = pd.read_csv(\"/Users/temp/Downloads/nyt-comments/CommentsMay2017.csv\")"
   ]
  },
  {
   "cell_type": "code",
   "execution_count": 11,
   "metadata": {
    "collapsed": true
   },
   "outputs": [],
   "source": [
    "f17 = pd.concat([f17_1, f17_2, f17_3, f17_4, f17_5])"
   ]
  },
  {
   "cell_type": "code",
   "execution_count": 12,
   "metadata": {},
   "outputs": [
    {
     "data": {
      "text/plain": [
       "(1246044, 34)"
      ]
     },
     "execution_count": 12,
     "metadata": {},
     "output_type": "execute_result"
    }
   ],
   "source": [
    "f17.shape"
   ]
  },
  {
   "cell_type": "code",
   "execution_count": 14,
   "metadata": {},
   "outputs": [
    {
     "name": "stderr",
     "output_type": "stream",
     "text": [
      "/Users/temp/anaconda/lib/python3.6/site-packages/IPython/core/interactiveshell.py:2717: DtypeWarning: Columns (32) have mixed types. Specify dtype option on import or set low_memory=False.\n",
      "  interactivity=interactivity, compiler=compiler, result=result)\n",
      "/Users/temp/anaconda/lib/python3.6/site-packages/IPython/core/interactiveshell.py:2717: DtypeWarning: Columns (14,15,31) have mixed types. Specify dtype option on import or set low_memory=False.\n",
      "  interactivity=interactivity, compiler=compiler, result=result)\n"
     ]
    }
   ],
   "source": [
    "f18_1 = pd.read_csv(\"/Users/temp/Downloads/nyt-comments/CommentsJan2018.csv\")\n",
    "f18_2 = pd.read_csv(\"/Users/temp/Downloads/nyt-comments/CommentsFeb2018.csv\")\n",
    "f18_3 = pd.read_csv(\"/Users/temp/Downloads/nyt-comments/CommentsMarch2018.csv\")\n",
    "f18_4 = pd.read_csv(\"/Users/temp/Downloads/nyt-comments/CommentsApril2018.csv\")\n",
    "f18 = pd.concat([f18_1, f18_2, f18_3, f18_4])"
   ]
  },
  {
   "cell_type": "code",
   "execution_count": 15,
   "metadata": {},
   "outputs": [
    {
     "data": {
      "text/plain": [
       "(930320, 34)"
      ]
     },
     "execution_count": 15,
     "metadata": {},
     "output_type": "execute_result"
    }
   ],
   "source": [
    "f18.shape"
   ]
  },
  {
   "cell_type": "code",
   "execution_count": 16,
   "metadata": {},
   "outputs": [
    {
     "data": {
      "text/plain": [
       "(2176364, 34)"
      ]
     },
     "execution_count": 16,
     "metadata": {},
     "output_type": "execute_result"
    }
   ],
   "source": [
    "comments = pd.concat([f17,f18])\n",
    "comments.shape"
   ]
  },
  {
   "cell_type": "code",
   "execution_count": 17,
   "metadata": {},
   "outputs": [
    {
     "data": {
      "text/plain": [
       "Index(['approveDate', 'articleID', 'articleWordCount', 'commentBody',\n",
       "       'commentID', 'commentSequence', 'commentTitle', 'commentType',\n",
       "       'createDate', 'depth', 'editorsSelection', 'inReplyTo', 'newDesk',\n",
       "       'parentID', 'parentUserDisplayName', 'permID', 'picURL', 'printPage',\n",
       "       'recommendations', 'recommendedFlag', 'replyCount', 'reportAbuseFlag',\n",
       "       'sectionName', 'sharing', 'status', 'timespeople', 'trusted',\n",
       "       'typeOfMaterial', 'updateDate', 'userDisplayName', 'userID',\n",
       "       'userLocation', 'userTitle', 'userURL'],\n",
       "      dtype='object')"
      ]
     },
     "execution_count": 17,
     "metadata": {},
     "output_type": "execute_result"
    }
   ],
   "source": [
    "comments.columns"
   ]
  },
  {
   "cell_type": "code",
   "execution_count": 18,
   "metadata": {},
   "outputs": [
    {
     "data": {
      "text/plain": [
       "(2118617, 34)"
      ]
     },
     "execution_count": 18,
     "metadata": {},
     "output_type": "execute_result"
    }
   ],
   "source": [
    "#dropping the duplicates by commentID\n",
    "comments.drop_duplicates(subset=\"commentID\", inplace= True)\n",
    "comments.reset_index(drop= True, inplace= True)\n",
    "comments.shape"
   ]
  }
 ],
 "metadata": {
  "kernelspec": {
   "display_name": "Python 3",
   "language": "python",
   "name": "python3"
  },
  "language_info": {
   "codemirror_mode": {
    "name": "ipython",
    "version": 3
   },
   "file_extension": ".py",
   "mimetype": "text/x-python",
   "name": "python",
   "nbconvert_exporter": "python",
   "pygments_lexer": "ipython3",
   "version": "3.6.1"
  }
 },
 "nbformat": 4,
 "nbformat_minor": 2
}
